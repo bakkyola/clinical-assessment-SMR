# ============================ Environment Setup ==============================
import os
# Disable parallelism warnings from HuggingFace tokenizers
os.environ["TOKENIZERS_PARALLELISM"] = "false"

# ============================== Standard Library =============================
import time       # for tracking execution time
import logging    # for logging progress and debugging
import json       # for reading/writing JSON data
import re         # for regular expressions and text processing

# ============================== Third-Party Libs =============================
# Hugging Face Transformers: used for loading models, tokenizers, and pipelines
from transformers import AutoTokenizer, AutoModelForCausalLM, pipeline

# ============================== Logging Config ===============================
# Configure logging to display timestamps, log level, and messages
logging.basicConfig(
    level=logging.INFO,
    format="%(asctime)s - %(levelname)s - %(message)s"
)

# Create a logger instance for this module
logger = logging.getLogger(__name__)
